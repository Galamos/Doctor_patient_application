{
 "cells": [
  {
   "cell_type": "markdown",
   "metadata": {},
   "source": [
    "## Data Mining and Preprocessing\n",
    "#### The purpose of this notebook is to explore and preprocess the data which will in order to prepare it for the application's recommender engine. The data utilized here is a small sample of medical specialists in Yaounde, Cameroon. The recommender system will be built to match users-patients to medical specialists"
   ]
  },
  {
   "cell_type": "code",
   "execution_count": 1,
   "metadata": {},
   "outputs": [],
   "source": [
    "#import statements for all relevant libraries\n",
    "import pandas as pd\n",
    "import numpy as np"
   ]
  },
  {
   "cell_type": "markdown",
   "metadata": {},
   "source": [
    "### Data Import and Exploration"
   ]
  },
  {
   "cell_type": "code",
   "execution_count": 2,
   "metadata": {},
   "outputs": [],
   "source": [
    "#import the specialist data as a dataframe\n",
    "specialists = pd.read_csv(\"specialist.csv\")"
   ]
  },
  {
   "cell_type": "code",
   "execution_count": 3,
   "metadata": {},
   "outputs": [
    {
     "data": {
      "text/plain": [
       "(191, 8)"
      ]
     },
     "execution_count": 3,
     "metadata": {},
     "output_type": "execute_result"
    }
   ],
   "source": [
    "#Check the size of the data\n",
    "specialists.shape"
   ]
  },
  {
   "cell_type": "code",
   "execution_count": 4,
   "metadata": {},
   "outputs": [
    {
     "name": "stdout",
     "output_type": "stream",
     "text": [
      "<class 'pandas.core.frame.DataFrame'>\n",
      "RangeIndex: 191 entries, 0 to 190\n",
      "Data columns (total 8 columns):\n",
      "Id                       191 non-null int64\n",
      "Specialist's name        190 non-null object\n",
      "Specialist's category    191 non-null object\n",
      "Institution              191 non-null object\n",
      "Location                 191 non-null object\n",
      "Timetable                191 non-null object\n",
      "Language                 191 non-null object\n",
      "Phone number             189 non-null float64\n",
      "dtypes: float64(1), int64(1), object(6)\n",
      "memory usage: 12.1+ KB\n"
     ]
    }
   ],
   "source": [
    "#Get basic about the data constituent\n",
    "specialists.info()"
   ]
  },
  {
   "cell_type": "code",
   "execution_count": 5,
   "metadata": {},
   "outputs": [
    {
     "data": {
      "text/html": [
       "<div>\n",
       "<style scoped>\n",
       "    .dataframe tbody tr th:only-of-type {\n",
       "        vertical-align: middle;\n",
       "    }\n",
       "\n",
       "    .dataframe tbody tr th {\n",
       "        vertical-align: top;\n",
       "    }\n",
       "\n",
       "    .dataframe thead th {\n",
       "        text-align: right;\n",
       "    }\n",
       "</style>\n",
       "<table border=\"1\" class=\"dataframe\">\n",
       "  <thead>\n",
       "    <tr style=\"text-align: right;\">\n",
       "      <th></th>\n",
       "      <th>Id</th>\n",
       "      <th>Specialist's name</th>\n",
       "      <th>Specialist's category</th>\n",
       "      <th>Institution</th>\n",
       "      <th>Location</th>\n",
       "      <th>Timetable</th>\n",
       "      <th>Language</th>\n",
       "      <th>Phone number</th>\n",
       "    </tr>\n",
       "  </thead>\n",
       "  <tbody>\n",
       "    <tr>\n",
       "      <th>0</th>\n",
       "      <td>1</td>\n",
       "      <td>DR YOMBA</td>\n",
       "      <td>CARDIOLOGIST</td>\n",
       "      <td>Le Jourdain</td>\n",
       "      <td>Nlongkak</td>\n",
       "      <td>Monday|Wednesday</td>\n",
       "      <td>French</td>\n",
       "      <td>2.376111e+11</td>\n",
       "    </tr>\n",
       "    <tr>\n",
       "      <th>1</th>\n",
       "      <td>2</td>\n",
       "      <td>DR BOOMBHI</td>\n",
       "      <td>CARDIOLOGIST</td>\n",
       "      <td>Le Jourdain</td>\n",
       "      <td>Nlongkak</td>\n",
       "      <td>Tuesday|Wednesday|Thursday</td>\n",
       "      <td>French</td>\n",
       "      <td>2.376111e+11</td>\n",
       "    </tr>\n",
       "    <tr>\n",
       "      <th>2</th>\n",
       "      <td>3</td>\n",
       "      <td>DR GRACE OKORO</td>\n",
       "      <td>DERMATOLOGIST</td>\n",
       "      <td>Le Jourdain</td>\n",
       "      <td>Nlongkak</td>\n",
       "      <td>Monday|Tuesday|Saturday</td>\n",
       "      <td>French</td>\n",
       "      <td>2.376111e+11</td>\n",
       "    </tr>\n",
       "    <tr>\n",
       "      <th>3</th>\n",
       "      <td>4</td>\n",
       "      <td>DR TSONGUI</td>\n",
       "      <td>DERMATOLOGIST</td>\n",
       "      <td>Le Jourdain</td>\n",
       "      <td>Nlongkak</td>\n",
       "      <td>Thursday|Friday|Saturday</td>\n",
       "      <td>French</td>\n",
       "      <td>2.376111e+11</td>\n",
       "    </tr>\n",
       "    <tr>\n",
       "      <th>4</th>\n",
       "      <td>5</td>\n",
       "      <td>DR ATEBA</td>\n",
       "      <td>ENDOCRINOLOGIST</td>\n",
       "      <td>Le Jourdain</td>\n",
       "      <td>Nlongkak</td>\n",
       "      <td>Monday|Tuesday|Thursday</td>\n",
       "      <td>French</td>\n",
       "      <td>2.376111e+11</td>\n",
       "    </tr>\n",
       "  </tbody>\n",
       "</table>\n",
       "</div>"
      ],
      "text/plain": [
       "   Id Specialist's name Specialist's category  Institution  Location  \\\n",
       "0   1          DR YOMBA          CARDIOLOGIST  Le Jourdain  Nlongkak   \n",
       "1   2        DR BOOMBHI          CARDIOLOGIST  Le Jourdain  Nlongkak   \n",
       "2   3    DR GRACE OKORO         DERMATOLOGIST  Le Jourdain  Nlongkak   \n",
       "3   4        DR TSONGUI         DERMATOLOGIST  Le Jourdain  Nlongkak   \n",
       "4   5          DR ATEBA       ENDOCRINOLOGIST  Le Jourdain  Nlongkak   \n",
       "\n",
       "                    Timetable Language  Phone number  \n",
       "0            Monday|Wednesday   French  2.376111e+11  \n",
       "1  Tuesday|Wednesday|Thursday   French  2.376111e+11  \n",
       "2     Monday|Tuesday|Saturday   French  2.376111e+11  \n",
       "3    Thursday|Friday|Saturday   French  2.376111e+11  \n",
       "4     Monday|Tuesday|Thursday   French  2.376111e+11  "
      ]
     },
     "execution_count": 5,
     "metadata": {},
     "output_type": "execute_result"
    }
   ],
   "source": [
    "#Get a preview of the data structure\n",
    "specialists.head()"
   ]
  },
  {
   "cell_type": "code",
   "execution_count": 6,
   "metadata": {},
   "outputs": [
    {
     "data": {
      "text/plain": [
       "True"
      ]
     },
     "execution_count": 6,
     "metadata": {},
     "output_type": "execute_result"
    }
   ],
   "source": [
    "#Check for the existence of null values\n",
    "specialists.isnull().values.any()"
   ]
  },
  {
   "cell_type": "code",
   "execution_count": 7,
   "metadata": {},
   "outputs": [
    {
     "data": {
      "text/plain": [
       "Id                       0\n",
       "Specialist's name        1\n",
       "Specialist's category    0\n",
       "Institution              0\n",
       "Location                 0\n",
       "Timetable                0\n",
       "Language                 0\n",
       "Phone number             2\n",
       "dtype: int64"
      ]
     },
     "execution_count": 7,
     "metadata": {},
     "output_type": "execute_result"
    }
   ],
   "source": [
    "#Return the count of null values\n",
    "specialists.isnull().sum()"
   ]
  },
  {
   "cell_type": "code",
   "execution_count": 8,
   "metadata": {},
   "outputs": [
    {
     "data": {
      "text/html": [
       "<div>\n",
       "<style scoped>\n",
       "    .dataframe tbody tr th:only-of-type {\n",
       "        vertical-align: middle;\n",
       "    }\n",
       "\n",
       "    .dataframe tbody tr th {\n",
       "        vertical-align: top;\n",
       "    }\n",
       "\n",
       "    .dataframe thead th {\n",
       "        text-align: right;\n",
       "    }\n",
       "</style>\n",
       "<table border=\"1\" class=\"dataframe\">\n",
       "  <thead>\n",
       "    <tr style=\"text-align: right;\">\n",
       "      <th></th>\n",
       "      <th>Id</th>\n",
       "      <th>Specialist's name</th>\n",
       "      <th>Specialist's category</th>\n",
       "      <th>Institution</th>\n",
       "      <th>Location</th>\n",
       "      <th>Timetable</th>\n",
       "      <th>Language</th>\n",
       "      <th>Phone number</th>\n",
       "    </tr>\n",
       "  </thead>\n",
       "  <tbody>\n",
       "    <tr>\n",
       "      <th>52</th>\n",
       "      <td>53</td>\n",
       "      <td>NaN</td>\n",
       "      <td>RADIOLOGIST</td>\n",
       "      <td>Le Jourdain</td>\n",
       "      <td>Nlongkak</td>\n",
       "      <td>Monday|Tuesday|Wednesday|Thursday|Friday|Saturday</td>\n",
       "      <td>French</td>\n",
       "      <td>2.376111e+11</td>\n",
       "    </tr>\n",
       "    <tr>\n",
       "      <th>144</th>\n",
       "      <td>145</td>\n",
       "      <td>DR NOUBEG M. L.</td>\n",
       "      <td>RADIOLOGIST</td>\n",
       "      <td>Clinique Fouda</td>\n",
       "      <td>Quatier Fouda</td>\n",
       "      <td>On call</td>\n",
       "      <td>French</td>\n",
       "      <td>NaN</td>\n",
       "    </tr>\n",
       "    <tr>\n",
       "      <th>152</th>\n",
       "      <td>153</td>\n",
       "      <td>DR NOA NOA TINA</td>\n",
       "      <td>OPHTHALMOLOGIST</td>\n",
       "      <td>Clinique Fouda</td>\n",
       "      <td>Quatier Fouda</td>\n",
       "      <td>Monday|Wednesday|Thursday</td>\n",
       "      <td>French</td>\n",
       "      <td>NaN</td>\n",
       "    </tr>\n",
       "  </tbody>\n",
       "</table>\n",
       "</div>"
      ],
      "text/plain": [
       "      Id Specialist's name Specialist's category     Institution  \\\n",
       "52    53               NaN           RADIOLOGIST     Le Jourdain   \n",
       "144  145   DR NOUBEG M. L.           RADIOLOGIST  Clinique Fouda   \n",
       "152  153   DR NOA NOA TINA       OPHTHALMOLOGIST  Clinique Fouda   \n",
       "\n",
       "          Location                                          Timetable  \\\n",
       "52        Nlongkak  Monday|Tuesday|Wednesday|Thursday|Friday|Saturday   \n",
       "144  Quatier Fouda                                            On call   \n",
       "152  Quatier Fouda                          Monday|Wednesday|Thursday   \n",
       "\n",
       "    Language  Phone number  \n",
       "52    French  2.376111e+11  \n",
       "144   French           NaN  \n",
       "152   French           NaN  "
      ]
     },
     "execution_count": 8,
     "metadata": {},
     "output_type": "execute_result"
    }
   ],
   "source": [
    "#Since we are missing a specialist's name which is the primary attribute of the data \n",
    "#and is very imperative for the purpose of the recommender system,\n",
    "#we have to identify the row with the missing name and drop it\n",
    "null_data = specialists[specialists.isnull().any(axis=1)]\n",
    "null_data"
   ]
  },
  {
   "cell_type": "code",
   "execution_count": 11,
   "metadata": {},
   "outputs": [
    {
     "data": {
      "text/plain": [
       "(190, 8)"
      ]
     },
     "execution_count": 11,
     "metadata": {},
     "output_type": "execute_result"
    }
   ],
   "source": [
    "#Now row 53 will be dropped since it lacks a name. The rows which lack phone numbers will be kept \n",
    "#because they have all other relevant information\n",
    "specialists = specialists.drop(53)\n",
    "specialists.shape"
   ]
  },
  {
   "cell_type": "code",
   "execution_count": 15,
   "metadata": {},
   "outputs": [
    {
     "data": {
      "text/html": [
       "<div>\n",
       "<style scoped>\n",
       "    .dataframe tbody tr th:only-of-type {\n",
       "        vertical-align: middle;\n",
       "    }\n",
       "\n",
       "    .dataframe tbody tr th {\n",
       "        vertical-align: top;\n",
       "    }\n",
       "\n",
       "    .dataframe thead th {\n",
       "        text-align: right;\n",
       "    }\n",
       "</style>\n",
       "<table border=\"1\" class=\"dataframe\">\n",
       "  <thead>\n",
       "    <tr style=\"text-align: right;\">\n",
       "      <th></th>\n",
       "      <th>Id</th>\n",
       "      <th>name</th>\n",
       "      <th>specialty</th>\n",
       "      <th>Institution</th>\n",
       "      <th>Location</th>\n",
       "      <th>days</th>\n",
       "      <th>Language</th>\n",
       "      <th>Phone number</th>\n",
       "    </tr>\n",
       "  </thead>\n",
       "  <tbody>\n",
       "    <tr>\n",
       "      <th>0</th>\n",
       "      <td>1</td>\n",
       "      <td>DR YOMBA</td>\n",
       "      <td>CARDIOLOGIST</td>\n",
       "      <td>Le Jourdain</td>\n",
       "      <td>Nlongkak</td>\n",
       "      <td>Monday|Wednesday</td>\n",
       "      <td>French</td>\n",
       "      <td>2.376111e+11</td>\n",
       "    </tr>\n",
       "    <tr>\n",
       "      <th>1</th>\n",
       "      <td>2</td>\n",
       "      <td>DR BOOMBHI</td>\n",
       "      <td>CARDIOLOGIST</td>\n",
       "      <td>Le Jourdain</td>\n",
       "      <td>Nlongkak</td>\n",
       "      <td>Tuesday|Wednesday|Thursday</td>\n",
       "      <td>French</td>\n",
       "      <td>2.376111e+11</td>\n",
       "    </tr>\n",
       "    <tr>\n",
       "      <th>2</th>\n",
       "      <td>3</td>\n",
       "      <td>DR GRACE OKORO</td>\n",
       "      <td>DERMATOLOGIST</td>\n",
       "      <td>Le Jourdain</td>\n",
       "      <td>Nlongkak</td>\n",
       "      <td>Monday|Tuesday|Saturday</td>\n",
       "      <td>French</td>\n",
       "      <td>2.376111e+11</td>\n",
       "    </tr>\n",
       "    <tr>\n",
       "      <th>3</th>\n",
       "      <td>4</td>\n",
       "      <td>DR TSONGUI</td>\n",
       "      <td>DERMATOLOGIST</td>\n",
       "      <td>Le Jourdain</td>\n",
       "      <td>Nlongkak</td>\n",
       "      <td>Thursday|Friday|Saturday</td>\n",
       "      <td>French</td>\n",
       "      <td>2.376111e+11</td>\n",
       "    </tr>\n",
       "    <tr>\n",
       "      <th>4</th>\n",
       "      <td>5</td>\n",
       "      <td>DR ATEBA</td>\n",
       "      <td>ENDOCRINOLOGIST</td>\n",
       "      <td>Le Jourdain</td>\n",
       "      <td>Nlongkak</td>\n",
       "      <td>Monday|Tuesday|Thursday</td>\n",
       "      <td>French</td>\n",
       "      <td>2.376111e+11</td>\n",
       "    </tr>\n",
       "  </tbody>\n",
       "</table>\n",
       "</div>"
      ],
      "text/plain": [
       "   Id            name        specialty  Institution  Location  \\\n",
       "0   1        DR YOMBA     CARDIOLOGIST  Le Jourdain  Nlongkak   \n",
       "1   2      DR BOOMBHI     CARDIOLOGIST  Le Jourdain  Nlongkak   \n",
       "2   3  DR GRACE OKORO    DERMATOLOGIST  Le Jourdain  Nlongkak   \n",
       "3   4      DR TSONGUI    DERMATOLOGIST  Le Jourdain  Nlongkak   \n",
       "4   5        DR ATEBA  ENDOCRINOLOGIST  Le Jourdain  Nlongkak   \n",
       "\n",
       "                         days Language  Phone number  \n",
       "0            Monday|Wednesday   French  2.376111e+11  \n",
       "1  Tuesday|Wednesday|Thursday   French  2.376111e+11  \n",
       "2     Monday|Tuesday|Saturday   French  2.376111e+11  \n",
       "3    Thursday|Friday|Saturday   French  2.376111e+11  \n",
       "4     Monday|Tuesday|Thursday   French  2.376111e+11  "
      ]
     },
     "execution_count": 15,
     "metadata": {},
     "output_type": "execute_result"
    }
   ],
   "source": [
    "#The columns will be renamed with shorter and easier names\n",
    "specialists = specialists.rename(columns={\"Specialist's name\": \"name\", \"Specialist's category\": \"specialty\", \"Timetable\": \"days\"})\n",
    "specialists.head()"
   ]
  },
  {
   "cell_type": "markdown",
   "metadata": {},
   "source": [
    "## Data Preprocessing\n",
    "#### In this step, the data will be restructure to make it easier to use when creating the recommender system. The end goal is to have a dataframe with 3 main parameters, the id, the title and the attributes which are the specialty, institution, location, days, language and phone number"
   ]
  },
  {
   "cell_type": "code",
   "execution_count": null,
   "metadata": {},
   "outputs": [],
   "source": [
    "#Now the last 6 columns are going to be merged into 1 column called attributes\n"
   ]
  }
 ],
 "metadata": {
  "kernelspec": {
   "display_name": "Python 3",
   "language": "python",
   "name": "python3"
  },
  "language_info": {
   "codemirror_mode": {
    "name": "ipython",
    "version": 3
   },
   "file_extension": ".py",
   "mimetype": "text/x-python",
   "name": "python",
   "nbconvert_exporter": "python",
   "pygments_lexer": "ipython3",
   "version": "3.7.5"
  }
 },
 "nbformat": 4,
 "nbformat_minor": 2
}
