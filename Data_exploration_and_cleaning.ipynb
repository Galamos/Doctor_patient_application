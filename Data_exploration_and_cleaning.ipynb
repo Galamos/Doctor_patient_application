{
 "cells": [
  {
   "cell_type": "markdown",
   "metadata": {},
   "source": [
    "## Data Exploration and Cleaning\n",
    "#### The purpose of this notebook is to explore and clean the data which will in order to prepare it for the application's recommender engine. The data utilized here is a small sample of medical specialists in Yaounde, Cameroon. The recommender system will be built to match users-patients to medical specialists"
   ]
  },
  {
   "cell_type": "code",
   "execution_count": 1,
   "metadata": {},
   "outputs": [],
   "source": [
    "#import statements for all relevant libraries\n",
    "import pandas as pd\n",
    "import numpy as np"
   ]
  },
  {
   "cell_type": "markdown",
   "metadata": {},
   "source": [
    "### Data Import and Exploration"
   ]
  },
  {
   "cell_type": "code",
   "execution_count": 2,
   "metadata": {},
   "outputs": [],
   "source": [
    "#import the specialist and rating data as dataframes\n",
    "specialists = pd.read_csv(\"specialist.csv\")"
   ]
  },
  {
   "cell_type": "code",
   "execution_count": 3,
   "metadata": {},
   "outputs": [
    {
     "data": {
      "text/plain": [
       "(402, 8)"
      ]
     },
     "execution_count": 3,
     "metadata": {},
     "output_type": "execute_result"
    }
   ],
   "source": [
    "#Check the size of each dataframe\n",
    "specialists.shape"
   ]
  },
  {
   "cell_type": "code",
   "execution_count": 4,
   "metadata": {},
   "outputs": [
    {
     "name": "stdout",
     "output_type": "stream",
     "text": [
      "<class 'pandas.core.frame.DataFrame'>\n",
      "RangeIndex: 402 entries, 0 to 401\n",
      "Data columns (total 8 columns):\n",
      "Id             401 non-null float64\n",
      "name           401 non-null object\n",
      "specialty      401 non-null object\n",
      "institution    401 non-null object\n",
      "location       401 non-null object\n",
      "days           401 non-null object\n",
      "language       401 non-null object\n",
      "telephone      401 non-null float64\n",
      "dtypes: float64(2), object(6)\n",
      "memory usage: 25.2+ KB\n"
     ]
    }
   ],
   "source": [
    "#Get basic details about the dataframe constituents\n",
    "specialists.info()"
   ]
  },
  {
   "cell_type": "markdown",
   "metadata": {},
   "source": [
    "As shown above, the specialists dataset contains data specific to each specialist in the database with regards to their name, specialty, institution, location, days of work, their language and their telephone number. This data could be considered as their demographic data. This demographic info will be used to match them to create the right specialist profile for the user's needs"
   ]
  },
  {
   "cell_type": "code",
   "execution_count": 5,
   "metadata": {},
   "outputs": [
    {
     "data": {
      "text/html": [
       "<div>\n",
       "<style scoped>\n",
       "    .dataframe tbody tr th:only-of-type {\n",
       "        vertical-align: middle;\n",
       "    }\n",
       "\n",
       "    .dataframe tbody tr th {\n",
       "        vertical-align: top;\n",
       "    }\n",
       "\n",
       "    .dataframe thead th {\n",
       "        text-align: right;\n",
       "    }\n",
       "</style>\n",
       "<table border=\"1\" class=\"dataframe\">\n",
       "  <thead>\n",
       "    <tr style=\"text-align: right;\">\n",
       "      <th></th>\n",
       "      <th>Id</th>\n",
       "      <th>name</th>\n",
       "      <th>specialty</th>\n",
       "      <th>institution</th>\n",
       "      <th>location</th>\n",
       "      <th>days</th>\n",
       "      <th>language</th>\n",
       "      <th>telephone</th>\n",
       "    </tr>\n",
       "  </thead>\n",
       "  <tbody>\n",
       "    <tr>\n",
       "      <th>0</th>\n",
       "      <td>1.0</td>\n",
       "      <td>DR YOMBA</td>\n",
       "      <td>CARDIOLOGIST</td>\n",
       "      <td>Le Jourdain</td>\n",
       "      <td>Nlongkak</td>\n",
       "      <td>Monday|Wednesday</td>\n",
       "      <td>French</td>\n",
       "      <td>2.376110e+11</td>\n",
       "    </tr>\n",
       "    <tr>\n",
       "      <th>1</th>\n",
       "      <td>2.0</td>\n",
       "      <td>DR BOOMBHI</td>\n",
       "      <td>CARDIOLOGIST</td>\n",
       "      <td>Le Jourdain</td>\n",
       "      <td>Nlongkak</td>\n",
       "      <td>Tuesday|Wednesday|Thursday</td>\n",
       "      <td>French</td>\n",
       "      <td>2.376110e+11</td>\n",
       "    </tr>\n",
       "    <tr>\n",
       "      <th>2</th>\n",
       "      <td>3.0</td>\n",
       "      <td>DR GRACE OKORO</td>\n",
       "      <td>DERMATOLOGIST</td>\n",
       "      <td>Le Jourdain</td>\n",
       "      <td>Nlongkak</td>\n",
       "      <td>Monday|Tuesday|Saturday+F4:F118</td>\n",
       "      <td>French</td>\n",
       "      <td>2.376110e+11</td>\n",
       "    </tr>\n",
       "    <tr>\n",
       "      <th>3</th>\n",
       "      <td>4.0</td>\n",
       "      <td>DR TSONGUI</td>\n",
       "      <td>DERMATOLOGIST</td>\n",
       "      <td>Le Jourdain</td>\n",
       "      <td>Nlongkak</td>\n",
       "      <td>Thursday|Friday|Saturday</td>\n",
       "      <td>French</td>\n",
       "      <td>2.376110e+11</td>\n",
       "    </tr>\n",
       "    <tr>\n",
       "      <th>4</th>\n",
       "      <td>5.0</td>\n",
       "      <td>DR ATEBA</td>\n",
       "      <td>ENDOCRINOLOGIST</td>\n",
       "      <td>Le Jourdain</td>\n",
       "      <td>Nlongkak</td>\n",
       "      <td>Monday|Tuesday|Thursday</td>\n",
       "      <td>French</td>\n",
       "      <td>2.376110e+11</td>\n",
       "    </tr>\n",
       "  </tbody>\n",
       "</table>\n",
       "</div>"
      ],
      "text/plain": [
       "    Id            name        specialty  institution  location  \\\n",
       "0  1.0        DR YOMBA     CARDIOLOGIST  Le Jourdain  Nlongkak   \n",
       "1  2.0      DR BOOMBHI     CARDIOLOGIST  Le Jourdain  Nlongkak   \n",
       "2  3.0  DR GRACE OKORO    DERMATOLOGIST  Le Jourdain  Nlongkak   \n",
       "3  4.0      DR TSONGUI    DERMATOLOGIST  Le Jourdain  Nlongkak   \n",
       "4  5.0        DR ATEBA  ENDOCRINOLOGIST  Le Jourdain  Nlongkak   \n",
       "\n",
       "                              days language     telephone  \n",
       "0                 Monday|Wednesday   French  2.376110e+11  \n",
       "1       Tuesday|Wednesday|Thursday   French  2.376110e+11  \n",
       "2  Monday|Tuesday|Saturday+F4:F118   French  2.376110e+11  \n",
       "3         Thursday|Friday|Saturday   French  2.376110e+11  \n",
       "4          Monday|Tuesday|Thursday   French  2.376110e+11  "
      ]
     },
     "execution_count": 5,
     "metadata": {},
     "output_type": "execute_result"
    }
   ],
   "source": [
    "#Get a preview of the dataframes\n",
    "specialists.head()"
   ]
  },
  {
   "cell_type": "markdown",
   "metadata": {},
   "source": [
    "The table above displays a preview of the ratings of the specialists in the datasets. The ratings are between 1 and 5 with 1 implying that the user was unsatisfied by the specialist's services and 5 implying that the specialist provides stellar services."
   ]
  },
  {
   "cell_type": "code",
   "execution_count": 6,
   "metadata": {},
   "outputs": [
    {
     "data": {
      "text/plain": [
       "True"
      ]
     },
     "execution_count": 6,
     "metadata": {},
     "output_type": "execute_result"
    }
   ],
   "source": [
    "#Check for the existence of null values\n",
    "specialists.isnull().values.any()"
   ]
  },
  {
   "cell_type": "code",
   "execution_count": 7,
   "metadata": {},
   "outputs": [
    {
     "data": {
      "text/plain": [
       "Id             1\n",
       "name           1\n",
       "specialty      1\n",
       "institution    1\n",
       "location       1\n",
       "days           1\n",
       "language       1\n",
       "telephone      1\n",
       "dtype: int64"
      ]
     },
     "execution_count": 7,
     "metadata": {},
     "output_type": "execute_result"
    }
   ],
   "source": [
    "#Return the count of null values\n",
    "specialists.isnull().sum()"
   ]
  },
  {
   "cell_type": "code",
   "execution_count": 8,
   "metadata": {},
   "outputs": [
    {
     "data": {
      "text/html": [
       "<div>\n",
       "<style scoped>\n",
       "    .dataframe tbody tr th:only-of-type {\n",
       "        vertical-align: middle;\n",
       "    }\n",
       "\n",
       "    .dataframe tbody tr th {\n",
       "        vertical-align: top;\n",
       "    }\n",
       "\n",
       "    .dataframe thead th {\n",
       "        text-align: right;\n",
       "    }\n",
       "</style>\n",
       "<table border=\"1\" class=\"dataframe\">\n",
       "  <thead>\n",
       "    <tr style=\"text-align: right;\">\n",
       "      <th></th>\n",
       "      <th>Id</th>\n",
       "      <th>name</th>\n",
       "      <th>specialty</th>\n",
       "      <th>institution</th>\n",
       "      <th>location</th>\n",
       "      <th>days</th>\n",
       "      <th>language</th>\n",
       "      <th>telephone</th>\n",
       "    </tr>\n",
       "  </thead>\n",
       "  <tbody>\n",
       "    <tr>\n",
       "      <th>401</th>\n",
       "      <td>NaN</td>\n",
       "      <td>NaN</td>\n",
       "      <td>NaN</td>\n",
       "      <td>NaN</td>\n",
       "      <td>NaN</td>\n",
       "      <td>NaN</td>\n",
       "      <td>NaN</td>\n",
       "      <td>NaN</td>\n",
       "    </tr>\n",
       "  </tbody>\n",
       "</table>\n",
       "</div>"
      ],
      "text/plain": [
       "     Id name specialty institution location days language  telephone\n",
       "401 NaN  NaN       NaN         NaN      NaN  NaN      NaN        NaN"
      ]
     },
     "execution_count": 8,
     "metadata": {},
     "output_type": "execute_result"
    }
   ],
   "source": [
    "#Return the row which has the missing data\n",
    "null_data = specialists[specialists.isnull().any(axis=1)]\n",
    "null_data"
   ]
  },
  {
   "cell_type": "code",
   "execution_count": 9,
   "metadata": {},
   "outputs": [
    {
     "data": {
      "text/plain": [
       "(401, 8)"
      ]
     },
     "execution_count": 9,
     "metadata": {},
     "output_type": "execute_result"
    }
   ],
   "source": [
    "#Dropping the empty row\n",
    "specialists = specialists.drop(401)\n",
    "specialists.shape"
   ]
  },
  {
   "cell_type": "code",
   "execution_count": 10,
   "metadata": {
    "scrolled": true
   },
   "outputs": [
    {
     "data": {
      "text/plain": [
       "array(['CARDIOLOGIST', 'DERMATOLOGIST', 'ENDOCRINOLOGIST',\n",
       "       'GASTROENTOROLOGIST', 'RESIDENT', 'INFECTOLOGIST', 'OB/GYN',\n",
       "       'NEUROLOGIST', 'NEPHROLOGIST', 'NUTRITIONIST', 'ONDOSTOMATOLOGIA',\n",
       "       'OPHTHALMOLOGIST', 'EAR, NOSE AND THROAT', 'ORTHOPEDIC SURGEON',\n",
       "       'PEDIATRICIAN', 'PNEUMOLOGIST', 'PSYCHIATRIST', 'RHUMATOLOGIST',\n",
       "       'UROLOGIST', 'KINESITHERAPIST', 'ETIOPATIEST', 'BIOLOGIST',\n",
       "       'PSYCHOLOGIST', 'VISCERAL AND DIGESTIVE SURGERY', 'ORTHOPHONIST',\n",
       "       'RADIOLOGIST', 'DENTIST', 'GENERAL PRACTITIONER',\n",
       "       'GENERAL PPRACTIIONER', 'NURSE', 'NEUROSURGEON',\n",
       "       'FAMILY PRACTITIONER', 'GASTRO ENTEROLOGUE', 'GENERAL SURGEON',\n",
       "       'NEPHOLOGIST', 'ORTHOPEADIST', 'PHARMACIST', 'PULMONOLOGIST',\n",
       "       'GENR', 'ORTHODENTIST'], dtype=object)"
      ]
     },
     "execution_count": 10,
     "metadata": {},
     "output_type": "execute_result"
    }
   ],
   "source": [
    "#Return the different specialties in the dataset\n",
    "specialists['specialty'].unique()"
   ]
  },
  {
   "cell_type": "code",
   "execution_count": 11,
   "metadata": {},
   "outputs": [
    {
     "data": {
      "text/html": [
       "<div>\n",
       "<style scoped>\n",
       "    .dataframe tbody tr th:only-of-type {\n",
       "        vertical-align: middle;\n",
       "    }\n",
       "\n",
       "    .dataframe tbody tr th {\n",
       "        vertical-align: top;\n",
       "    }\n",
       "\n",
       "    .dataframe thead th {\n",
       "        text-align: right;\n",
       "    }\n",
       "</style>\n",
       "<table border=\"1\" class=\"dataframe\">\n",
       "  <thead>\n",
       "    <tr style=\"text-align: right;\">\n",
       "      <th></th>\n",
       "      <th>Id</th>\n",
       "      <th>name</th>\n",
       "      <th>specialty</th>\n",
       "      <th>institution</th>\n",
       "      <th>location</th>\n",
       "      <th>days</th>\n",
       "      <th>language</th>\n",
       "      <th>telephone</th>\n",
       "    </tr>\n",
       "  </thead>\n",
       "  <tbody>\n",
       "    <tr>\n",
       "      <th>0</th>\n",
       "      <td>1.0</td>\n",
       "      <td>DR YOMBA</td>\n",
       "      <td>CARDIOLOGIST</td>\n",
       "      <td>Le Jourdain</td>\n",
       "      <td>Nlongkak</td>\n",
       "      <td>Monday|Wednesday</td>\n",
       "      <td>French</td>\n",
       "      <td>2.376110e+11</td>\n",
       "    </tr>\n",
       "    <tr>\n",
       "      <th>1</th>\n",
       "      <td>2.0</td>\n",
       "      <td>DR BOOMBHI</td>\n",
       "      <td>CARDIOLOGIST</td>\n",
       "      <td>Le Jourdain</td>\n",
       "      <td>Nlongkak</td>\n",
       "      <td>Tuesday|Wednesday|Thursday</td>\n",
       "      <td>French</td>\n",
       "      <td>2.376110e+11</td>\n",
       "    </tr>\n",
       "    <tr>\n",
       "      <th>2</th>\n",
       "      <td>3.0</td>\n",
       "      <td>DR GRACE OKORO</td>\n",
       "      <td>DERMATOLOGIST</td>\n",
       "      <td>Le Jourdain</td>\n",
       "      <td>Nlongkak</td>\n",
       "      <td>Monday|Tuesday|Saturday+F4:F118</td>\n",
       "      <td>French</td>\n",
       "      <td>2.376110e+11</td>\n",
       "    </tr>\n",
       "    <tr>\n",
       "      <th>3</th>\n",
       "      <td>4.0</td>\n",
       "      <td>DR TSONGUI</td>\n",
       "      <td>DERMATOLOGIST</td>\n",
       "      <td>Le Jourdain</td>\n",
       "      <td>Nlongkak</td>\n",
       "      <td>Thursday|Friday|Saturday</td>\n",
       "      <td>French</td>\n",
       "      <td>2.376110e+11</td>\n",
       "    </tr>\n",
       "    <tr>\n",
       "      <th>4</th>\n",
       "      <td>5.0</td>\n",
       "      <td>DR ATEBA</td>\n",
       "      <td>ENDOCRINOLOGIST</td>\n",
       "      <td>Le Jourdain</td>\n",
       "      <td>Nlongkak</td>\n",
       "      <td>Monday|Tuesday|Thursday</td>\n",
       "      <td>French</td>\n",
       "      <td>2.376110e+11</td>\n",
       "    </tr>\n",
       "    <tr>\n",
       "      <th>...</th>\n",
       "      <td>...</td>\n",
       "      <td>...</td>\n",
       "      <td>...</td>\n",
       "      <td>...</td>\n",
       "      <td>...</td>\n",
       "      <td>...</td>\n",
       "      <td>...</td>\n",
       "      <td>...</td>\n",
       "    </tr>\n",
       "    <tr>\n",
       "      <th>396</th>\n",
       "      <td>397.0</td>\n",
       "      <td>DR COLETTE</td>\n",
       "      <td>PEDIATRICIAN</td>\n",
       "      <td>Independent</td>\n",
       "      <td>Yaounde</td>\n",
       "      <td>On call</td>\n",
       "      <td>French</td>\n",
       "      <td>2.379556e+10</td>\n",
       "    </tr>\n",
       "    <tr>\n",
       "      <th>397</th>\n",
       "      <td>398.0</td>\n",
       "      <td>DR RUDOLPHE</td>\n",
       "      <td>OB/GYN</td>\n",
       "      <td>Independent</td>\n",
       "      <td>Yaounde</td>\n",
       "      <td>On call</td>\n",
       "      <td>French</td>\n",
       "      <td>2.377560e+12</td>\n",
       "    </tr>\n",
       "    <tr>\n",
       "      <th>398</th>\n",
       "      <td>399.0</td>\n",
       "      <td>DR FLORENTIA</td>\n",
       "      <td>DENTIST</td>\n",
       "      <td>Independent</td>\n",
       "      <td>Yaounde</td>\n",
       "      <td>On call</td>\n",
       "      <td>French</td>\n",
       "      <td>2.377560e+12</td>\n",
       "    </tr>\n",
       "    <tr>\n",
       "      <th>399</th>\n",
       "      <td>400.0</td>\n",
       "      <td>DR LAURA KAMSONG</td>\n",
       "      <td>OB/GYN</td>\n",
       "      <td>Independent</td>\n",
       "      <td>Yaounde</td>\n",
       "      <td>On call</td>\n",
       "      <td>French</td>\n",
       "      <td>2.377556e+10</td>\n",
       "    </tr>\n",
       "    <tr>\n",
       "      <th>400</th>\n",
       "      <td>401.0</td>\n",
       "      <td>DR JACQUELIN</td>\n",
       "      <td>DERMATOLOGIST</td>\n",
       "      <td>Independent</td>\n",
       "      <td>Yaounde</td>\n",
       "      <td>On call</td>\n",
       "      <td>English</td>\n",
       "      <td>6.799342e+08</td>\n",
       "    </tr>\n",
       "  </tbody>\n",
       "</table>\n",
       "<p>401 rows × 8 columns</p>\n",
       "</div>"
      ],
      "text/plain": [
       "        Id              name        specialty  institution  location  \\\n",
       "0      1.0          DR YOMBA     CARDIOLOGIST  Le Jourdain  Nlongkak   \n",
       "1      2.0        DR BOOMBHI     CARDIOLOGIST  Le Jourdain  Nlongkak   \n",
       "2      3.0    DR GRACE OKORO    DERMATOLOGIST  Le Jourdain  Nlongkak   \n",
       "3      4.0        DR TSONGUI    DERMATOLOGIST  Le Jourdain  Nlongkak   \n",
       "4      5.0          DR ATEBA  ENDOCRINOLOGIST  Le Jourdain  Nlongkak   \n",
       "..     ...               ...              ...          ...       ...   \n",
       "396  397.0        DR COLETTE     PEDIATRICIAN  Independent   Yaounde   \n",
       "397  398.0       DR RUDOLPHE           OB/GYN  Independent   Yaounde   \n",
       "398  399.0      DR FLORENTIA          DENTIST  Independent   Yaounde   \n",
       "399  400.0  DR LAURA KAMSONG           OB/GYN  Independent   Yaounde   \n",
       "400  401.0     DR JACQUELIN     DERMATOLOGIST  Independent   Yaounde   \n",
       "\n",
       "                                days language     telephone  \n",
       "0                   Monday|Wednesday   French  2.376110e+11  \n",
       "1         Tuesday|Wednesday|Thursday   French  2.376110e+11  \n",
       "2    Monday|Tuesday|Saturday+F4:F118   French  2.376110e+11  \n",
       "3           Thursday|Friday|Saturday   French  2.376110e+11  \n",
       "4            Monday|Tuesday|Thursday   French  2.376110e+11  \n",
       "..                               ...      ...           ...  \n",
       "396                          On call   French  2.379556e+10  \n",
       "397                          On call   French  2.377560e+12  \n",
       "398                          On call   French  2.377560e+12  \n",
       "399                          On call   French  2.377556e+10  \n",
       "400                          On call  English  6.799342e+08  \n",
       "\n",
       "[401 rows x 8 columns]"
      ]
     },
     "execution_count": 11,
     "metadata": {},
     "output_type": "execute_result"
    }
   ],
   "source": [
    "#Update speciality column by making sure spellings are in sync\n",
    "specialists.replace({'specialty': 'GENERAL PPRACTIIONER'}, {'specialty': 'GENERAL PRACTITIONER'})"
   ]
  },
  {
   "cell_type": "code",
   "execution_count": 12,
   "metadata": {
    "scrolled": true
   },
   "outputs": [
    {
     "data": {
      "text/html": [
       "<div>\n",
       "<style scoped>\n",
       "    .dataframe tbody tr th:only-of-type {\n",
       "        vertical-align: middle;\n",
       "    }\n",
       "\n",
       "    .dataframe tbody tr th {\n",
       "        vertical-align: top;\n",
       "    }\n",
       "\n",
       "    .dataframe thead th {\n",
       "        text-align: right;\n",
       "    }\n",
       "</style>\n",
       "<table border=\"1\" class=\"dataframe\">\n",
       "  <thead>\n",
       "    <tr style=\"text-align: right;\">\n",
       "      <th></th>\n",
       "      <th>Id</th>\n",
       "      <th>name</th>\n",
       "      <th>specialty</th>\n",
       "      <th>institution</th>\n",
       "      <th>location</th>\n",
       "      <th>days</th>\n",
       "      <th>language</th>\n",
       "      <th>telephone</th>\n",
       "    </tr>\n",
       "  </thead>\n",
       "  <tbody>\n",
       "    <tr>\n",
       "      <th>0</th>\n",
       "      <td>1.0</td>\n",
       "      <td>DR YOMBA</td>\n",
       "      <td>CARDIOLOGIST</td>\n",
       "      <td>Le Jourdain</td>\n",
       "      <td>Nlongkak</td>\n",
       "      <td>Monday|Wednesday</td>\n",
       "      <td>French</td>\n",
       "      <td>2.376110e+11</td>\n",
       "    </tr>\n",
       "    <tr>\n",
       "      <th>1</th>\n",
       "      <td>2.0</td>\n",
       "      <td>DR BOOMBHI</td>\n",
       "      <td>CARDIOLOGIST</td>\n",
       "      <td>Le Jourdain</td>\n",
       "      <td>Nlongkak</td>\n",
       "      <td>Tuesday|Wednesday|Thursday</td>\n",
       "      <td>French</td>\n",
       "      <td>2.376110e+11</td>\n",
       "    </tr>\n",
       "    <tr>\n",
       "      <th>2</th>\n",
       "      <td>3.0</td>\n",
       "      <td>DR GRACE OKORO</td>\n",
       "      <td>DERMATOLOGIST</td>\n",
       "      <td>Le Jourdain</td>\n",
       "      <td>Nlongkak</td>\n",
       "      <td>Monday|Tuesday|Saturday+F4:F118</td>\n",
       "      <td>French</td>\n",
       "      <td>2.376110e+11</td>\n",
       "    </tr>\n",
       "    <tr>\n",
       "      <th>3</th>\n",
       "      <td>4.0</td>\n",
       "      <td>DR TSONGUI</td>\n",
       "      <td>DERMATOLOGIST</td>\n",
       "      <td>Le Jourdain</td>\n",
       "      <td>Nlongkak</td>\n",
       "      <td>Thursday|Friday|Saturday</td>\n",
       "      <td>French</td>\n",
       "      <td>2.376110e+11</td>\n",
       "    </tr>\n",
       "    <tr>\n",
       "      <th>4</th>\n",
       "      <td>5.0</td>\n",
       "      <td>DR ATEBA</td>\n",
       "      <td>ENDOCRINOLOGIST</td>\n",
       "      <td>Le Jourdain</td>\n",
       "      <td>Nlongkak</td>\n",
       "      <td>Monday|Tuesday|Thursday</td>\n",
       "      <td>French</td>\n",
       "      <td>2.376110e+11</td>\n",
       "    </tr>\n",
       "    <tr>\n",
       "      <th>...</th>\n",
       "      <td>...</td>\n",
       "      <td>...</td>\n",
       "      <td>...</td>\n",
       "      <td>...</td>\n",
       "      <td>...</td>\n",
       "      <td>...</td>\n",
       "      <td>...</td>\n",
       "      <td>...</td>\n",
       "    </tr>\n",
       "    <tr>\n",
       "      <th>396</th>\n",
       "      <td>397.0</td>\n",
       "      <td>DR COLETTE</td>\n",
       "      <td>PEDIATRICIAN</td>\n",
       "      <td>Independent</td>\n",
       "      <td>Yaounde</td>\n",
       "      <td>On call</td>\n",
       "      <td>French</td>\n",
       "      <td>2.379556e+10</td>\n",
       "    </tr>\n",
       "    <tr>\n",
       "      <th>397</th>\n",
       "      <td>398.0</td>\n",
       "      <td>DR RUDOLPHE</td>\n",
       "      <td>OB/GYN</td>\n",
       "      <td>Independent</td>\n",
       "      <td>Yaounde</td>\n",
       "      <td>On call</td>\n",
       "      <td>French</td>\n",
       "      <td>2.377560e+12</td>\n",
       "    </tr>\n",
       "    <tr>\n",
       "      <th>398</th>\n",
       "      <td>399.0</td>\n",
       "      <td>DR FLORENTIA</td>\n",
       "      <td>DENTIST</td>\n",
       "      <td>Independent</td>\n",
       "      <td>Yaounde</td>\n",
       "      <td>On call</td>\n",
       "      <td>French</td>\n",
       "      <td>2.377560e+12</td>\n",
       "    </tr>\n",
       "    <tr>\n",
       "      <th>399</th>\n",
       "      <td>400.0</td>\n",
       "      <td>DR LAURA KAMSONG</td>\n",
       "      <td>OB/GYN</td>\n",
       "      <td>Independent</td>\n",
       "      <td>Yaounde</td>\n",
       "      <td>On call</td>\n",
       "      <td>French</td>\n",
       "      <td>2.377556e+10</td>\n",
       "    </tr>\n",
       "    <tr>\n",
       "      <th>400</th>\n",
       "      <td>401.0</td>\n",
       "      <td>DR JACQUELIN</td>\n",
       "      <td>DERMATOLOGIST</td>\n",
       "      <td>Independent</td>\n",
       "      <td>Yaounde</td>\n",
       "      <td>On call</td>\n",
       "      <td>English</td>\n",
       "      <td>6.799342e+08</td>\n",
       "    </tr>\n",
       "  </tbody>\n",
       "</table>\n",
       "<p>401 rows × 8 columns</p>\n",
       "</div>"
      ],
      "text/plain": [
       "        Id              name        specialty  institution  location  \\\n",
       "0      1.0          DR YOMBA     CARDIOLOGIST  Le Jourdain  Nlongkak   \n",
       "1      2.0        DR BOOMBHI     CARDIOLOGIST  Le Jourdain  Nlongkak   \n",
       "2      3.0    DR GRACE OKORO    DERMATOLOGIST  Le Jourdain  Nlongkak   \n",
       "3      4.0        DR TSONGUI    DERMATOLOGIST  Le Jourdain  Nlongkak   \n",
       "4      5.0          DR ATEBA  ENDOCRINOLOGIST  Le Jourdain  Nlongkak   \n",
       "..     ...               ...              ...          ...       ...   \n",
       "396  397.0        DR COLETTE     PEDIATRICIAN  Independent   Yaounde   \n",
       "397  398.0       DR RUDOLPHE           OB/GYN  Independent   Yaounde   \n",
       "398  399.0      DR FLORENTIA          DENTIST  Independent   Yaounde   \n",
       "399  400.0  DR LAURA KAMSONG           OB/GYN  Independent   Yaounde   \n",
       "400  401.0     DR JACQUELIN     DERMATOLOGIST  Independent   Yaounde   \n",
       "\n",
       "                                days language     telephone  \n",
       "0                   Monday|Wednesday   French  2.376110e+11  \n",
       "1         Tuesday|Wednesday|Thursday   French  2.376110e+11  \n",
       "2    Monday|Tuesday|Saturday+F4:F118   French  2.376110e+11  \n",
       "3           Thursday|Friday|Saturday   French  2.376110e+11  \n",
       "4            Monday|Tuesday|Thursday   French  2.376110e+11  \n",
       "..                               ...      ...           ...  \n",
       "396                          On call   French  2.379556e+10  \n",
       "397                          On call   French  2.377560e+12  \n",
       "398                          On call   French  2.377560e+12  \n",
       "399                          On call   French  2.377556e+10  \n",
       "400                          On call  English  6.799342e+08  \n",
       "\n",
       "[401 rows x 8 columns]"
      ]
     },
     "execution_count": 12,
     "metadata": {},
     "output_type": "execute_result"
    }
   ],
   "source": [
    "specialists.replace({'specialty': 'GASTRO ENTEROLOGUE'}, {'specialty': 'GASTROENTOROLOGIST'})"
   ]
  },
  {
   "cell_type": "code",
   "execution_count": 13,
   "metadata": {},
   "outputs": [
    {
     "data": {
      "text/html": [
       "<div>\n",
       "<style scoped>\n",
       "    .dataframe tbody tr th:only-of-type {\n",
       "        vertical-align: middle;\n",
       "    }\n",
       "\n",
       "    .dataframe tbody tr th {\n",
       "        vertical-align: top;\n",
       "    }\n",
       "\n",
       "    .dataframe thead th {\n",
       "        text-align: right;\n",
       "    }\n",
       "</style>\n",
       "<table border=\"1\" class=\"dataframe\">\n",
       "  <thead>\n",
       "    <tr style=\"text-align: right;\">\n",
       "      <th></th>\n",
       "      <th>Id</th>\n",
       "      <th>name</th>\n",
       "      <th>specialty</th>\n",
       "      <th>institution</th>\n",
       "      <th>location</th>\n",
       "      <th>days</th>\n",
       "      <th>language</th>\n",
       "      <th>telephone</th>\n",
       "    </tr>\n",
       "  </thead>\n",
       "  <tbody>\n",
       "    <tr>\n",
       "      <th>0</th>\n",
       "      <td>1.0</td>\n",
       "      <td>DR YOMBA</td>\n",
       "      <td>CARDIOLOGIST</td>\n",
       "      <td>Le Jourdain</td>\n",
       "      <td>Nlongkak</td>\n",
       "      <td>Monday|Wednesday</td>\n",
       "      <td>French</td>\n",
       "      <td>2.376110e+11</td>\n",
       "    </tr>\n",
       "    <tr>\n",
       "      <th>1</th>\n",
       "      <td>2.0</td>\n",
       "      <td>DR BOOMBHI</td>\n",
       "      <td>CARDIOLOGIST</td>\n",
       "      <td>Le Jourdain</td>\n",
       "      <td>Nlongkak</td>\n",
       "      <td>Tuesday|Wednesday|Thursday</td>\n",
       "      <td>French</td>\n",
       "      <td>2.376110e+11</td>\n",
       "    </tr>\n",
       "    <tr>\n",
       "      <th>2</th>\n",
       "      <td>3.0</td>\n",
       "      <td>DR GRACE OKORO</td>\n",
       "      <td>DERMATOLOGIST</td>\n",
       "      <td>Le Jourdain</td>\n",
       "      <td>Nlongkak</td>\n",
       "      <td>Monday|Tuesday|Saturday+F4:F118</td>\n",
       "      <td>French</td>\n",
       "      <td>2.376110e+11</td>\n",
       "    </tr>\n",
       "    <tr>\n",
       "      <th>3</th>\n",
       "      <td>4.0</td>\n",
       "      <td>DR TSONGUI</td>\n",
       "      <td>DERMATOLOGIST</td>\n",
       "      <td>Le Jourdain</td>\n",
       "      <td>Nlongkak</td>\n",
       "      <td>Thursday|Friday|Saturday</td>\n",
       "      <td>French</td>\n",
       "      <td>2.376110e+11</td>\n",
       "    </tr>\n",
       "    <tr>\n",
       "      <th>4</th>\n",
       "      <td>5.0</td>\n",
       "      <td>DR ATEBA</td>\n",
       "      <td>ENDOCRINOLOGIST</td>\n",
       "      <td>Le Jourdain</td>\n",
       "      <td>Nlongkak</td>\n",
       "      <td>Monday|Tuesday|Thursday</td>\n",
       "      <td>French</td>\n",
       "      <td>2.376110e+11</td>\n",
       "    </tr>\n",
       "    <tr>\n",
       "      <th>...</th>\n",
       "      <td>...</td>\n",
       "      <td>...</td>\n",
       "      <td>...</td>\n",
       "      <td>...</td>\n",
       "      <td>...</td>\n",
       "      <td>...</td>\n",
       "      <td>...</td>\n",
       "      <td>...</td>\n",
       "    </tr>\n",
       "    <tr>\n",
       "      <th>396</th>\n",
       "      <td>397.0</td>\n",
       "      <td>DR COLETTE</td>\n",
       "      <td>PEDIATRICIAN</td>\n",
       "      <td>Independent</td>\n",
       "      <td>Yaounde</td>\n",
       "      <td>On call</td>\n",
       "      <td>French</td>\n",
       "      <td>2.379556e+10</td>\n",
       "    </tr>\n",
       "    <tr>\n",
       "      <th>397</th>\n",
       "      <td>398.0</td>\n",
       "      <td>DR RUDOLPHE</td>\n",
       "      <td>OB/GYN</td>\n",
       "      <td>Independent</td>\n",
       "      <td>Yaounde</td>\n",
       "      <td>On call</td>\n",
       "      <td>French</td>\n",
       "      <td>2.377560e+12</td>\n",
       "    </tr>\n",
       "    <tr>\n",
       "      <th>398</th>\n",
       "      <td>399.0</td>\n",
       "      <td>DR FLORENTIA</td>\n",
       "      <td>DENTIST</td>\n",
       "      <td>Independent</td>\n",
       "      <td>Yaounde</td>\n",
       "      <td>On call</td>\n",
       "      <td>French</td>\n",
       "      <td>2.377560e+12</td>\n",
       "    </tr>\n",
       "    <tr>\n",
       "      <th>399</th>\n",
       "      <td>400.0</td>\n",
       "      <td>DR LAURA KAMSONG</td>\n",
       "      <td>OB/GYN</td>\n",
       "      <td>Independent</td>\n",
       "      <td>Yaounde</td>\n",
       "      <td>On call</td>\n",
       "      <td>French</td>\n",
       "      <td>2.377556e+10</td>\n",
       "    </tr>\n",
       "    <tr>\n",
       "      <th>400</th>\n",
       "      <td>401.0</td>\n",
       "      <td>DR JACQUELIN</td>\n",
       "      <td>DERMATOLOGIST</td>\n",
       "      <td>Independent</td>\n",
       "      <td>Yaounde</td>\n",
       "      <td>On call</td>\n",
       "      <td>English</td>\n",
       "      <td>6.799342e+08</td>\n",
       "    </tr>\n",
       "  </tbody>\n",
       "</table>\n",
       "<p>401 rows × 8 columns</p>\n",
       "</div>"
      ],
      "text/plain": [
       "        Id              name        specialty  institution  location  \\\n",
       "0      1.0          DR YOMBA     CARDIOLOGIST  Le Jourdain  Nlongkak   \n",
       "1      2.0        DR BOOMBHI     CARDIOLOGIST  Le Jourdain  Nlongkak   \n",
       "2      3.0    DR GRACE OKORO    DERMATOLOGIST  Le Jourdain  Nlongkak   \n",
       "3      4.0        DR TSONGUI    DERMATOLOGIST  Le Jourdain  Nlongkak   \n",
       "4      5.0          DR ATEBA  ENDOCRINOLOGIST  Le Jourdain  Nlongkak   \n",
       "..     ...               ...              ...          ...       ...   \n",
       "396  397.0        DR COLETTE     PEDIATRICIAN  Independent   Yaounde   \n",
       "397  398.0       DR RUDOLPHE           OB/GYN  Independent   Yaounde   \n",
       "398  399.0      DR FLORENTIA          DENTIST  Independent   Yaounde   \n",
       "399  400.0  DR LAURA KAMSONG           OB/GYN  Independent   Yaounde   \n",
       "400  401.0     DR JACQUELIN     DERMATOLOGIST  Independent   Yaounde   \n",
       "\n",
       "                                days language     telephone  \n",
       "0                   Monday|Wednesday   French  2.376110e+11  \n",
       "1         Tuesday|Wednesday|Thursday   French  2.376110e+11  \n",
       "2    Monday|Tuesday|Saturday+F4:F118   French  2.376110e+11  \n",
       "3           Thursday|Friday|Saturday   French  2.376110e+11  \n",
       "4            Monday|Tuesday|Thursday   French  2.376110e+11  \n",
       "..                               ...      ...           ...  \n",
       "396                          On call   French  2.379556e+10  \n",
       "397                          On call   French  2.377560e+12  \n",
       "398                          On call   French  2.377560e+12  \n",
       "399                          On call   French  2.377556e+10  \n",
       "400                          On call  English  6.799342e+08  \n",
       "\n",
       "[401 rows x 8 columns]"
      ]
     },
     "execution_count": 13,
     "metadata": {},
     "output_type": "execute_result"
    }
   ],
   "source": [
    "specialists.replace({'specialty': 'GENR'}, {'specialty': 'GENERAL PRACTITIONER'})"
   ]
  },
  {
   "cell_type": "code",
   "execution_count": 14,
   "metadata": {},
   "outputs": [
    {
     "data": {
      "text/plain": [
       "array(['CARDIOLOGIST', 'DERMATOLOGIST', 'ENDOCRINOLOGIST',\n",
       "       'GASTROENTOROLOGIST', 'RESIDENT', 'INFECTOLOGIST', 'OB/GYN',\n",
       "       'NEUROLOGIST', 'NEPHROLOGIST', 'NUTRITIONIST', 'ONDOSTOMATOLOGIA',\n",
       "       'OPHTHALMOLOGIST', 'EAR, NOSE AND THROAT', 'ORTHOPEDIC SURGEON',\n",
       "       'PEDIATRICIAN', 'PNEUMOLOGIST', 'PSYCHIATRIST', 'RHUMATOLOGIST',\n",
       "       'UROLOGIST', 'KINESITHERAPIST', 'ETIOPATIEST', 'BIOLOGIST',\n",
       "       'PSYCHOLOGIST', 'VISCERAL AND DIGESTIVE SURGERY', 'ORTHOPHONIST',\n",
       "       'RADIOLOGIST', 'DENTIST', 'GENERAL PRACTITIONER',\n",
       "       'GENERAL PPRACTIIONER', 'NURSE', 'NEUROSURGEON',\n",
       "       'FAMILY PRACTITIONER', 'GASTRO ENTEROLOGUE', 'GENERAL SURGEON',\n",
       "       'NEPHOLOGIST', 'ORTHOPEADIST', 'PHARMACIST', 'PULMONOLOGIST',\n",
       "       'GENR', 'ORTHODENTIST'], dtype=object)"
      ]
     },
     "execution_count": 14,
     "metadata": {},
     "output_type": "execute_result"
    }
   ],
   "source": [
    "#Check for any inconsistencies again\n",
    "specialists['specialty'].unique()"
   ]
  },
  {
   "cell_type": "code",
   "execution_count": 15,
   "metadata": {},
   "outputs": [
    {
     "data": {
      "text/plain": [
       "(401, 8)"
      ]
     },
     "execution_count": 15,
     "metadata": {},
     "output_type": "execute_result"
    }
   ],
   "source": [
    "specialists.shape"
   ]
  },
  {
   "cell_type": "code",
   "execution_count": 16,
   "metadata": {},
   "outputs": [
    {
     "data": {
      "text/plain": [
       "40"
      ]
     },
     "execution_count": 16,
     "metadata": {},
     "output_type": "execute_result"
    }
   ],
   "source": [
    "#Return the specialist count\n",
    "len(specialists['specialty'].unique().tolist())"
   ]
  },
  {
   "cell_type": "code",
   "execution_count": 17,
   "metadata": {
    "scrolled": true
   },
   "outputs": [
    {
     "data": {
      "text/html": [
       "<div>\n",
       "<style scoped>\n",
       "    .dataframe tbody tr th:only-of-type {\n",
       "        vertical-align: middle;\n",
       "    }\n",
       "\n",
       "    .dataframe tbody tr th {\n",
       "        vertical-align: top;\n",
       "    }\n",
       "\n",
       "    .dataframe thead th {\n",
       "        text-align: right;\n",
       "    }\n",
       "</style>\n",
       "<table border=\"1\" class=\"dataframe\">\n",
       "  <thead>\n",
       "    <tr style=\"text-align: right;\">\n",
       "      <th></th>\n",
       "      <th>Id</th>\n",
       "      <th>name</th>\n",
       "      <th>specialty</th>\n",
       "      <th>institution</th>\n",
       "      <th>location</th>\n",
       "      <th>days</th>\n",
       "      <th>language</th>\n",
       "      <th>telephone</th>\n",
       "    </tr>\n",
       "  </thead>\n",
       "  <tbody>\n",
       "    <tr>\n",
       "      <th>count</th>\n",
       "      <td>401.000000</td>\n",
       "      <td>401</td>\n",
       "      <td>401</td>\n",
       "      <td>401</td>\n",
       "      <td>401</td>\n",
       "      <td>401</td>\n",
       "      <td>401</td>\n",
       "      <td>4.010000e+02</td>\n",
       "    </tr>\n",
       "    <tr>\n",
       "      <th>unique</th>\n",
       "      <td>NaN</td>\n",
       "      <td>392</td>\n",
       "      <td>40</td>\n",
       "      <td>22</td>\n",
       "      <td>16</td>\n",
       "      <td>48</td>\n",
       "      <td>2</td>\n",
       "      <td>NaN</td>\n",
       "    </tr>\n",
       "    <tr>\n",
       "      <th>top</th>\n",
       "      <td>NaN</td>\n",
       "      <td>Consultation</td>\n",
       "      <td>OB/GYN</td>\n",
       "      <td>HGOPY</td>\n",
       "      <td>Ngousso</td>\n",
       "      <td>Monday| Tuesday| Wednesday| Thursday|Friday</td>\n",
       "      <td>French</td>\n",
       "      <td>NaN</td>\n",
       "    </tr>\n",
       "    <tr>\n",
       "      <th>freq</th>\n",
       "      <td>NaN</td>\n",
       "      <td>3</td>\n",
       "      <td>49</td>\n",
       "      <td>68</td>\n",
       "      <td>68</td>\n",
       "      <td>53</td>\n",
       "      <td>367</td>\n",
       "      <td>NaN</td>\n",
       "    </tr>\n",
       "    <tr>\n",
       "      <th>mean</th>\n",
       "      <td>201.000000</td>\n",
       "      <td>NaN</td>\n",
       "      <td>NaN</td>\n",
       "      <td>NaN</td>\n",
       "      <td>NaN</td>\n",
       "      <td>NaN</td>\n",
       "      <td>NaN</td>\n",
       "      <td>5.401257e+11</td>\n",
       "    </tr>\n",
       "    <tr>\n",
       "      <th>std</th>\n",
       "      <td>115.902977</td>\n",
       "      <td>NaN</td>\n",
       "      <td>NaN</td>\n",
       "      <td>NaN</td>\n",
       "      <td>NaN</td>\n",
       "      <td>NaN</td>\n",
       "      <td>NaN</td>\n",
       "      <td>8.523166e+11</td>\n",
       "    </tr>\n",
       "    <tr>\n",
       "      <th>min</th>\n",
       "      <td>1.000000</td>\n",
       "      <td>NaN</td>\n",
       "      <td>NaN</td>\n",
       "      <td>NaN</td>\n",
       "      <td>NaN</td>\n",
       "      <td>NaN</td>\n",
       "      <td>NaN</td>\n",
       "      <td>6.994202e+07</td>\n",
       "    </tr>\n",
       "    <tr>\n",
       "      <th>25%</th>\n",
       "      <td>101.000000</td>\n",
       "      <td>NaN</td>\n",
       "      <td>NaN</td>\n",
       "      <td>NaN</td>\n",
       "      <td>NaN</td>\n",
       "      <td>NaN</td>\n",
       "      <td>NaN</td>\n",
       "      <td>2.379555e+10</td>\n",
       "    </tr>\n",
       "    <tr>\n",
       "      <th>50%</th>\n",
       "      <td>201.000000</td>\n",
       "      <td>NaN</td>\n",
       "      <td>NaN</td>\n",
       "      <td>NaN</td>\n",
       "      <td>NaN</td>\n",
       "      <td>NaN</td>\n",
       "      <td>NaN</td>\n",
       "      <td>2.376110e+11</td>\n",
       "    </tr>\n",
       "    <tr>\n",
       "      <th>75%</th>\n",
       "      <td>301.000000</td>\n",
       "      <td>NaN</td>\n",
       "      <td>NaN</td>\n",
       "      <td>NaN</td>\n",
       "      <td>NaN</td>\n",
       "      <td>NaN</td>\n",
       "      <td>NaN</td>\n",
       "      <td>2.379560e+11</td>\n",
       "    </tr>\n",
       "    <tr>\n",
       "      <th>max</th>\n",
       "      <td>401.000000</td>\n",
       "      <td>NaN</td>\n",
       "      <td>NaN</td>\n",
       "      <td>NaN</td>\n",
       "      <td>NaN</td>\n",
       "      <td>NaN</td>\n",
       "      <td>NaN</td>\n",
       "      <td>2.379560e+12</td>\n",
       "    </tr>\n",
       "  </tbody>\n",
       "</table>\n",
       "</div>"
      ],
      "text/plain": [
       "                Id          name specialty institution location  \\\n",
       "count   401.000000           401       401         401      401   \n",
       "unique         NaN           392        40          22       16   \n",
       "top            NaN  Consultation    OB/GYN       HGOPY  Ngousso   \n",
       "freq           NaN             3        49          68       68   \n",
       "mean    201.000000           NaN       NaN         NaN      NaN   \n",
       "std     115.902977           NaN       NaN         NaN      NaN   \n",
       "min       1.000000           NaN       NaN         NaN      NaN   \n",
       "25%     101.000000           NaN       NaN         NaN      NaN   \n",
       "50%     201.000000           NaN       NaN         NaN      NaN   \n",
       "75%     301.000000           NaN       NaN         NaN      NaN   \n",
       "max     401.000000           NaN       NaN         NaN      NaN   \n",
       "\n",
       "                                               days language     telephone  \n",
       "count                                           401      401  4.010000e+02  \n",
       "unique                                           48        2           NaN  \n",
       "top     Monday| Tuesday| Wednesday| Thursday|Friday   French           NaN  \n",
       "freq                                             53      367           NaN  \n",
       "mean                                            NaN      NaN  5.401257e+11  \n",
       "std                                             NaN      NaN  8.523166e+11  \n",
       "min                                             NaN      NaN  6.994202e+07  \n",
       "25%                                             NaN      NaN  2.379555e+10  \n",
       "50%                                             NaN      NaN  2.376110e+11  \n",
       "75%                                             NaN      NaN  2.379560e+11  \n",
       "max                                             NaN      NaN  2.379560e+12  "
      ]
     },
     "execution_count": 17,
     "metadata": {},
     "output_type": "execute_result"
    }
   ],
   "source": [
    "specialists.describe(include = ['object', 'float'])"
   ]
  },
  {
   "cell_type": "code",
   "execution_count": 18,
   "metadata": {},
   "outputs": [
    {
     "data": {
      "text/plain": [
       "count        401\n",
       "unique        40\n",
       "top       OB/GYN\n",
       "freq          49\n",
       "Name: specialty, dtype: object"
      ]
     },
     "execution_count": 18,
     "metadata": {},
     "output_type": "execute_result"
    }
   ],
   "source": [
    "specialists['specialty'].describe()"
   ]
  },
  {
   "cell_type": "code",
   "execution_count": 19,
   "metadata": {},
   "outputs": [
    {
     "data": {
      "text/plain": [
       "count       401\n",
       "unique       22\n",
       "top       HGOPY\n",
       "freq         68\n",
       "Name: institution, dtype: object"
      ]
     },
     "execution_count": 19,
     "metadata": {},
     "output_type": "execute_result"
    }
   ],
   "source": [
    "specialists['institution'].describe()"
   ]
  },
  {
   "cell_type": "code",
   "execution_count": 20,
   "metadata": {},
   "outputs": [
    {
     "data": {
      "text/plain": [
       "count        401\n",
       "unique         2\n",
       "top       French\n",
       "freq         367\n",
       "Name: language, dtype: object"
      ]
     },
     "execution_count": 20,
     "metadata": {},
     "output_type": "execute_result"
    }
   ],
   "source": [
    "specialists['language'].describe()"
   ]
  },
  {
   "cell_type": "code",
   "execution_count": 21,
   "metadata": {},
   "outputs": [
    {
     "data": {
      "text/plain": [
       "count         401\n",
       "unique         16\n",
       "top       Ngousso\n",
       "freq           68\n",
       "Name: location, dtype: object"
      ]
     },
     "execution_count": 21,
     "metadata": {},
     "output_type": "execute_result"
    }
   ],
   "source": [
    "specialists['location'].describe()"
   ]
  },
  {
   "cell_type": "code",
   "execution_count": 22,
   "metadata": {},
   "outputs": [
    {
     "data": {
      "text/plain": [
       "count                                             401\n",
       "unique                                             48\n",
       "top       Monday| Tuesday| Wednesday| Thursday|Friday\n",
       "freq                                               53\n",
       "Name: days, dtype: object"
      ]
     },
     "execution_count": 22,
     "metadata": {},
     "output_type": "execute_result"
    }
   ],
   "source": [
    "specialists['days'].describe()"
   ]
  },
  {
   "cell_type": "code",
   "execution_count": 23,
   "metadata": {},
   "outputs": [],
   "source": [
    "#Export the clean data to a csv file for future use\n",
    "specialists.to_csv('.\\specialistLens.csv')"
   ]
  },
  {
   "cell_type": "markdown",
   "metadata": {},
   "source": [
    "The ratings data is going to be explored to discover if there is any existent pattern or anything interesting to pick from the data."
   ]
  },
  {
   "cell_type": "markdown",
   "metadata": {},
   "source": [
    "#### In this step, the data will be restructure to make it easier to use when creating the recommender system. The end goal is to have a dataframe with 3 main parameters, the id, the title and the attributes which are the specialty, institution, location, days, language and phone number"
   ]
  },
  {
   "cell_type": "code",
   "execution_count": 24,
   "metadata": {
    "scrolled": true
   },
   "outputs": [],
   "source": [
    "#Now the last 6 columns are going to be merged into 1 column called attributes\n",
    "specialists['attributes'] = specialists['specialty'] + '|' + specialists['institution'] + '|' + specialists['location'] + '|' + specialists['days'] + '|' + specialists['language']"
   ]
  },
  {
   "cell_type": "markdown",
   "metadata": {},
   "source": [
    "The other columns are dropped so that the resulting dataframe has just 3 columns comprising the specialists_id, their name and the attributes which is considered to be their demographic data"
   ]
  },
  {
   "cell_type": "code",
   "execution_count": 25,
   "metadata": {},
   "outputs": [
    {
     "data": {
      "text/html": [
       "<div>\n",
       "<style scoped>\n",
       "    .dataframe tbody tr th:only-of-type {\n",
       "        vertical-align: middle;\n",
       "    }\n",
       "\n",
       "    .dataframe tbody tr th {\n",
       "        vertical-align: top;\n",
       "    }\n",
       "\n",
       "    .dataframe thead th {\n",
       "        text-align: right;\n",
       "    }\n",
       "</style>\n",
       "<table border=\"1\" class=\"dataframe\">\n",
       "  <thead>\n",
       "    <tr style=\"text-align: right;\">\n",
       "      <th></th>\n",
       "      <th>Id</th>\n",
       "      <th>name</th>\n",
       "      <th>attributes</th>\n",
       "    </tr>\n",
       "  </thead>\n",
       "  <tbody>\n",
       "    <tr>\n",
       "      <th>0</th>\n",
       "      <td>1.0</td>\n",
       "      <td>DR YOMBA</td>\n",
       "      <td>CARDIOLOGIST|Le Jourdain|Nlongkak|Monday|Wedne...</td>\n",
       "    </tr>\n",
       "    <tr>\n",
       "      <th>1</th>\n",
       "      <td>2.0</td>\n",
       "      <td>DR BOOMBHI</td>\n",
       "      <td>CARDIOLOGIST|Le Jourdain|Nlongkak|Tuesday|Wedn...</td>\n",
       "    </tr>\n",
       "    <tr>\n",
       "      <th>2</th>\n",
       "      <td>3.0</td>\n",
       "      <td>DR GRACE OKORO</td>\n",
       "      <td>DERMATOLOGIST|Le Jourdain|Nlongkak|Monday|Tues...</td>\n",
       "    </tr>\n",
       "    <tr>\n",
       "      <th>3</th>\n",
       "      <td>4.0</td>\n",
       "      <td>DR TSONGUI</td>\n",
       "      <td>DERMATOLOGIST|Le Jourdain|Nlongkak|Thursday|Fr...</td>\n",
       "    </tr>\n",
       "    <tr>\n",
       "      <th>4</th>\n",
       "      <td>5.0</td>\n",
       "      <td>DR ATEBA</td>\n",
       "      <td>ENDOCRINOLOGIST|Le Jourdain|Nlongkak|Monday|Tu...</td>\n",
       "    </tr>\n",
       "  </tbody>\n",
       "</table>\n",
       "</div>"
      ],
      "text/plain": [
       "    Id            name                                         attributes\n",
       "0  1.0        DR YOMBA  CARDIOLOGIST|Le Jourdain|Nlongkak|Monday|Wedne...\n",
       "1  2.0      DR BOOMBHI  CARDIOLOGIST|Le Jourdain|Nlongkak|Tuesday|Wedn...\n",
       "2  3.0  DR GRACE OKORO  DERMATOLOGIST|Le Jourdain|Nlongkak|Monday|Tues...\n",
       "3  4.0      DR TSONGUI  DERMATOLOGIST|Le Jourdain|Nlongkak|Thursday|Fr...\n",
       "4  5.0        DR ATEBA  ENDOCRINOLOGIST|Le Jourdain|Nlongkak|Monday|Tu..."
      ]
     },
     "execution_count": 25,
     "metadata": {},
     "output_type": "execute_result"
    }
   ],
   "source": [
    "specialist_clean = specialists.drop(['specialty', 'institution', 'location', 'days', 'language', 'telephone'], axis=1)\n",
    "specialist_clean.head()"
   ]
  },
  {
   "cell_type": "code",
   "execution_count": 26,
   "metadata": {},
   "outputs": [],
   "source": [
    "#Dataframe is exported to csv file\n",
    "specialist_clean.to_csv('.\\specialistClean.csv')"
   ]
  }
 ],
 "metadata": {
  "kernelspec": {
   "display_name": "Python 3",
   "language": "python",
   "name": "python3"
  },
  "language_info": {
   "codemirror_mode": {
    "name": "ipython",
    "version": 3
   },
   "file_extension": ".py",
   "mimetype": "text/x-python",
   "name": "python",
   "nbconvert_exporter": "python",
   "pygments_lexer": "ipython3",
   "version": "3.7.5"
  }
 },
 "nbformat": 4,
 "nbformat_minor": 2
}
